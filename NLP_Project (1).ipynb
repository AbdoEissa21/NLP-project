{
  "cells": [
    {
      "cell_type": "code",
      "execution_count": 1,
      "metadata": {
        "id": "UJSFDLc_PxBK"
      },
      "outputs": [],
      "source": [
        "import numpy as np\n",
        "import pandas as pd\n",
        "import seaborn as sns\n",
        "import matplotlib.pyplot as plt\n",
        "import nltk\n",
        "from nltk.stem import PorterStemmer\n",
        "import re \n",
        "sns.set()"
      ]
    },
    {
      "cell_type": "code",
      "execution_count": 2,
      "metadata": {
        "id": "rZgnHRtfQFuF"
      },
      "outputs": [],
      "source": [
        "data=pd.read_csv('/content/train.csv')"
      ]
    },
    {
      "cell_type": "code",
      "execution_count": 3,
      "metadata": {
        "id": "waIzHeWjbZiv"
      },
      "outputs": [],
      "source": [
        "data_test=pd.read_csv('/content/test.csv')"
      ]
    },
    {
      "cell_type": "code",
      "execution_count": 4,
      "metadata": {
        "colab": {
          "base_uri": "https://localhost:8080/",
          "height": 206
        },
        "id": "IBk3qLWLQZVb",
        "outputId": "3363a70b-493b-4958-be4b-0694ab6a0449"
      },
      "outputs": [
        {
          "output_type": "execute_result",
          "data": {
            "text/plain": [
              "   id keyword location                                               text  \\\n",
              "0   1     NaN      NaN  Our Deeds are the Reason of this #earthquake M...   \n",
              "1   4     NaN      NaN             Forest fire near La Ronge Sask. Canada   \n",
              "2   5     NaN      NaN  All residents asked to 'shelter in place' are ...   \n",
              "3   6     NaN      NaN  13,000 people receive #wildfires evacuation or...   \n",
              "4   7     NaN      NaN  Just got sent this photo from Ruby #Alaska as ...   \n",
              "\n",
              "   target  \n",
              "0       1  \n",
              "1       1  \n",
              "2       1  \n",
              "3       1  \n",
              "4       1  "
            ],
            "text/html": [
              "\n",
              "  <div id=\"df-6114d8b4-40e4-4f4e-937d-4968e7987b37\">\n",
              "    <div class=\"colab-df-container\">\n",
              "      <div>\n",
              "<style scoped>\n",
              "    .dataframe tbody tr th:only-of-type {\n",
              "        vertical-align: middle;\n",
              "    }\n",
              "\n",
              "    .dataframe tbody tr th {\n",
              "        vertical-align: top;\n",
              "    }\n",
              "\n",
              "    .dataframe thead th {\n",
              "        text-align: right;\n",
              "    }\n",
              "</style>\n",
              "<table border=\"1\" class=\"dataframe\">\n",
              "  <thead>\n",
              "    <tr style=\"text-align: right;\">\n",
              "      <th></th>\n",
              "      <th>id</th>\n",
              "      <th>keyword</th>\n",
              "      <th>location</th>\n",
              "      <th>text</th>\n",
              "      <th>target</th>\n",
              "    </tr>\n",
              "  </thead>\n",
              "  <tbody>\n",
              "    <tr>\n",
              "      <th>0</th>\n",
              "      <td>1</td>\n",
              "      <td>NaN</td>\n",
              "      <td>NaN</td>\n",
              "      <td>Our Deeds are the Reason of this #earthquake M...</td>\n",
              "      <td>1</td>\n",
              "    </tr>\n",
              "    <tr>\n",
              "      <th>1</th>\n",
              "      <td>4</td>\n",
              "      <td>NaN</td>\n",
              "      <td>NaN</td>\n",
              "      <td>Forest fire near La Ronge Sask. Canada</td>\n",
              "      <td>1</td>\n",
              "    </tr>\n",
              "    <tr>\n",
              "      <th>2</th>\n",
              "      <td>5</td>\n",
              "      <td>NaN</td>\n",
              "      <td>NaN</td>\n",
              "      <td>All residents asked to 'shelter in place' are ...</td>\n",
              "      <td>1</td>\n",
              "    </tr>\n",
              "    <tr>\n",
              "      <th>3</th>\n",
              "      <td>6</td>\n",
              "      <td>NaN</td>\n",
              "      <td>NaN</td>\n",
              "      <td>13,000 people receive #wildfires evacuation or...</td>\n",
              "      <td>1</td>\n",
              "    </tr>\n",
              "    <tr>\n",
              "      <th>4</th>\n",
              "      <td>7</td>\n",
              "      <td>NaN</td>\n",
              "      <td>NaN</td>\n",
              "      <td>Just got sent this photo from Ruby #Alaska as ...</td>\n",
              "      <td>1</td>\n",
              "    </tr>\n",
              "  </tbody>\n",
              "</table>\n",
              "</div>\n",
              "      <button class=\"colab-df-convert\" onclick=\"convertToInteractive('df-6114d8b4-40e4-4f4e-937d-4968e7987b37')\"\n",
              "              title=\"Convert this dataframe to an interactive table.\"\n",
              "              style=\"display:none;\">\n",
              "        \n",
              "  <svg xmlns=\"http://www.w3.org/2000/svg\" height=\"24px\"viewBox=\"0 0 24 24\"\n",
              "       width=\"24px\">\n",
              "    <path d=\"M0 0h24v24H0V0z\" fill=\"none\"/>\n",
              "    <path d=\"M18.56 5.44l.94 2.06.94-2.06 2.06-.94-2.06-.94-.94-2.06-.94 2.06-2.06.94zm-11 1L8.5 8.5l.94-2.06 2.06-.94-2.06-.94L8.5 2.5l-.94 2.06-2.06.94zm10 10l.94 2.06.94-2.06 2.06-.94-2.06-.94-.94-2.06-.94 2.06-2.06.94z\"/><path d=\"M17.41 7.96l-1.37-1.37c-.4-.4-.92-.59-1.43-.59-.52 0-1.04.2-1.43.59L10.3 9.45l-7.72 7.72c-.78.78-.78 2.05 0 2.83L4 21.41c.39.39.9.59 1.41.59.51 0 1.02-.2 1.41-.59l7.78-7.78 2.81-2.81c.8-.78.8-2.07 0-2.86zM5.41 20L4 18.59l7.72-7.72 1.47 1.35L5.41 20z\"/>\n",
              "  </svg>\n",
              "      </button>\n",
              "      \n",
              "  <style>\n",
              "    .colab-df-container {\n",
              "      display:flex;\n",
              "      flex-wrap:wrap;\n",
              "      gap: 12px;\n",
              "    }\n",
              "\n",
              "    .colab-df-convert {\n",
              "      background-color: #E8F0FE;\n",
              "      border: none;\n",
              "      border-radius: 50%;\n",
              "      cursor: pointer;\n",
              "      display: none;\n",
              "      fill: #1967D2;\n",
              "      height: 32px;\n",
              "      padding: 0 0 0 0;\n",
              "      width: 32px;\n",
              "    }\n",
              "\n",
              "    .colab-df-convert:hover {\n",
              "      background-color: #E2EBFA;\n",
              "      box-shadow: 0px 1px 2px rgba(60, 64, 67, 0.3), 0px 1px 3px 1px rgba(60, 64, 67, 0.15);\n",
              "      fill: #174EA6;\n",
              "    }\n",
              "\n",
              "    [theme=dark] .colab-df-convert {\n",
              "      background-color: #3B4455;\n",
              "      fill: #D2E3FC;\n",
              "    }\n",
              "\n",
              "    [theme=dark] .colab-df-convert:hover {\n",
              "      background-color: #434B5C;\n",
              "      box-shadow: 0px 1px 3px 1px rgba(0, 0, 0, 0.15);\n",
              "      filter: drop-shadow(0px 1px 2px rgba(0, 0, 0, 0.3));\n",
              "      fill: #FFFFFF;\n",
              "    }\n",
              "  </style>\n",
              "\n",
              "      <script>\n",
              "        const buttonEl =\n",
              "          document.querySelector('#df-6114d8b4-40e4-4f4e-937d-4968e7987b37 button.colab-df-convert');\n",
              "        buttonEl.style.display =\n",
              "          google.colab.kernel.accessAllowed ? 'block' : 'none';\n",
              "\n",
              "        async function convertToInteractive(key) {\n",
              "          const element = document.querySelector('#df-6114d8b4-40e4-4f4e-937d-4968e7987b37');\n",
              "          const dataTable =\n",
              "            await google.colab.kernel.invokeFunction('convertToInteractive',\n",
              "                                                     [key], {});\n",
              "          if (!dataTable) return;\n",
              "\n",
              "          const docLinkHtml = 'Like what you see? Visit the ' +\n",
              "            '<a target=\"_blank\" href=https://colab.research.google.com/notebooks/data_table.ipynb>data table notebook</a>'\n",
              "            + ' to learn more about interactive tables.';\n",
              "          element.innerHTML = '';\n",
              "          dataTable['output_type'] = 'display_data';\n",
              "          await google.colab.output.renderOutput(dataTable, element);\n",
              "          const docLink = document.createElement('div');\n",
              "          docLink.innerHTML = docLinkHtml;\n",
              "          element.appendChild(docLink);\n",
              "        }\n",
              "      </script>\n",
              "    </div>\n",
              "  </div>\n",
              "  "
            ]
          },
          "metadata": {},
          "execution_count": 4
        }
      ],
      "source": [
        "data.head()"
      ]
    },
    {
      "cell_type": "code",
      "execution_count": 5,
      "metadata": {
        "colab": {
          "base_uri": "https://localhost:8080/"
        },
        "id": "j9SprZsmQZ_h",
        "outputId": "3a98fbd4-e4d7-437b-f6f5-c109ef3e8fe7"
      },
      "outputs": [
        {
          "output_type": "execute_result",
          "data": {
            "text/plain": [
              "0"
            ]
          },
          "metadata": {},
          "execution_count": 5
        }
      ],
      "source": [
        "data.duplicated().sum()"
      ]
    },
    {
      "cell_type": "code",
      "execution_count": 6,
      "metadata": {
        "colab": {
          "base_uri": "https://localhost:8080/"
        },
        "id": "LWNl6N1_QkNY",
        "outputId": "d4cf6c1d-3835-424b-9435-6bbd4377100b"
      },
      "outputs": [
        {
          "output_type": "execute_result",
          "data": {
            "text/plain": [
              "id           0.000000\n",
              "keyword      0.801261\n",
              "location    33.272035\n",
              "text         0.000000\n",
              "target       0.000000\n",
              "dtype: float64"
            ]
          },
          "metadata": {},
          "execution_count": 6
        }
      ],
      "source": [
        "data.isnull().sum()* 100 / len(data)"
      ]
    },
    {
      "cell_type": "code",
      "execution_count": 7,
      "metadata": {
        "colab": {
          "base_uri": "https://localhost:8080/",
          "height": 404
        },
        "id": "rUK-XlVeVlcb",
        "outputId": "2ddb9613-1262-4da7-cca8-1fd7ee91dd03"
      },
      "outputs": [
        {
          "output_type": "execute_result",
          "data": {
            "text/plain": [
              "<seaborn.axisgrid.FacetGrid at 0x7ff2f2e13ed0>"
            ]
          },
          "metadata": {},
          "execution_count": 7
        },
        {
          "output_type": "display_data",
          "data": {
            "text/plain": [
              "<Figure size 720x432 with 0 Axes>"
            ]
          },
          "metadata": {}
        },
        {
          "output_type": "display_data",
          "data": {
            "text/plain": [
              "<Figure size 517.475x360 with 1 Axes>"
            ],
            "image/png": "[encoded data removed]"
          },
          "metadata": {
            "needs_background": "light"
          }
        }
      ],
      "source": [
        "plt.figure(figsize=(10,6))\n",
        "sns.displot(\n",
        "    data=data.isna().melt(value_name=\"missing\"),\n",
        "    y=\"variable\",\n",
        "    hue=\"missing\",\n",
        "    multiple=\"fill\",\n",
        "    aspect=1.25\n",
        ")"
      ]
    },
    {
      "cell_type": "code",
      "execution_count": 8,
      "metadata": {
        "colab": {
          "base_uri": "https://localhost:8080/"
        },
        "id": "E1Xh1PIcQd9B",
        "outputId": "17fb5aab-2f27-4071-be4e-a9ba3b31d4e7"
      },
      "outputs": [
        {
          "output_type": "execute_result",
          "data": {
            "text/plain": [
              "0    4342\n",
              "1    3271\n",
              "Name: target, dtype: int64"
            ]
          },
          "metadata": {},
          "execution_count": 8
        }
      ],
      "source": [
        "data['target'].value_counts()"
      ]
    },
    {
      "cell_type": "code",
      "execution_count": 9,
      "metadata": {
        "colab": {
          "base_uri": "https://localhost:8080/"
        },
        "id": "haqjJW0IRFCo",
        "outputId": "a4f7c5f5-102c-4b09-f428-f0d25cb90be3"
      },
      "outputs": [
        {
          "output_type": "execute_result",
          "data": {
            "text/plain": [
              "USA                104\n",
              "New York            71\n",
              "United States       50\n",
              "London              45\n",
              "Canada              29\n",
              "Nigeria             28\n",
              "UK                  27\n",
              "Los Angeles, CA     26\n",
              "India               24\n",
              "Mumbai              22\n",
              "Washington, DC      21\n",
              "Kenya               20\n",
              "Worldwide           19\n",
              "Australia           18\n",
              "Chicago, IL         18\n",
              "Name: location, dtype: int64"
            ]
          },
          "metadata": {},
          "execution_count": 9
        }
      ],
      "source": [
        "data['location'].value_counts()[:15]"
      ]
    },
    {
      "cell_type": "code",
      "execution_count": 10,
      "metadata": {
        "colab": {
          "base_uri": "https://localhost:8080/"
        },
        "id": "lSvliQKgTXoJ",
        "outputId": "1ba1cbb4-8395-49ae-8129-9276da9905d5"
      },
      "outputs": [
        {
          "output_type": "execute_result",
          "data": {
            "text/plain": [
              "fatalities     45\n",
              "deluge         42\n",
              "armageddon     42\n",
              "sinking        41\n",
              "damage         41\n",
              "harm           41\n",
              "body%20bags    41\n",
              "outbreak       40\n",
              "evacuate       40\n",
              "fear           40\n",
              "collided       40\n",
              "siren          40\n",
              "twister        40\n",
              "windstorm      40\n",
              "sinkhole       39\n",
              "Name: keyword, dtype: int64"
            ]
          },
          "metadata": {},
          "execution_count": 10
        }
      ],
      "source": [
        "data['keyword'].value_counts()[:15]"
      ]
    },
    {
      "cell_type": "code",
      "source": [
        ""
      ],
      "metadata": {
        "colab": {
          "base_uri": "https://localhost:8080/",
          "height": 130
        },
        "id": "dx_SKUQFMivU",
        "outputId": "bcdadae7-47e6-4a1a-84cc-2a387cfabb00"
      },
      "execution_count": 204,
      "outputs": [
        {
          "output_type": "error",
          "ename": "SyntaxError",
          "evalue": "ignored",
          "traceback": [
            "\u001b[0;36m  File \u001b[0;32m\"<ipython-input-204-a9ae78c4e237>\"\u001b[0;36m, line \u001b[0;32m1\u001b[0m\n\u001b[0;31m    text=data['text'']\u001b[0m\n\u001b[0m                      ^\u001b[0m\n\u001b[0;31mSyntaxError\u001b[0m\u001b[0;31m:\u001b[0m EOL while scanning string literal\n"
          ]
        }
      ]
    },
    {
      "cell_type": "code",
      "execution_count": 208,
      "metadata": {
        "colab": {
          "base_uri": "https://localhost:8080/"
        },
        "id": "OuhkWUyJUdR2",
        "outputId": "75c6f30b-9c81-4c69-fa18-eb426eaa8300"
      },
      "outputs": [
        {
          "output_type": "stream",
          "name": "stderr",
          "text": [
            "[nltk_data] Downloading package stopwords to /root/nltk_data...\n",
            "[nltk_data]   Package stopwords is already up-to-date!\n"
          ]
        }
      ],
      "source": [
        "nltk.download('stopwords')\n",
        "from nltk.corpus import stopwords\n",
        "stop_words=stopwords.words('english')\n"
      ]
    },
    {
      "cell_type": "code",
      "execution_count": 12,
      "metadata": {
        "id": "B_d2m6POuDci"
      },
      "outputs": [],
      "source": [
        "def process_tweets(tweets):\n",
        "    clean_tweets=[]\n",
        "    stemmer=PorterStemmer()\n",
        "\n",
        "    for tweet in tweets:\n",
        "        #clean tweet\n",
        "        tweet=re.sub(r'(@|#)[a-zA-Z0-9_]+',\"\",tweet)# remove hash $ mention\n",
        "        tweet=re.sub(r'https?:\\/\\/\\S+',\"\",tweet) # remove hyperlink\n",
        "        tweet=re.sub(r'\\W',\" \",tweet) # remove special chacters \n",
        "        tweet=re.sub(r'\\s[0-9]+\\s',\" \",tweet) # remove numbers\n",
        "        tweet=re.sub('^\\s+',\"\",tweet) # remove spaces\n",
        "        tweet=re.sub('\\s+$',\"\",tweet) # remove spaces\n",
        "\n",
        "        # remove stops words and stemming \n",
        "        clean_tweet=[stemmer.stem(word.lower()) for word in tweet.split() if word.lower() not in stop_words]\n",
        "\n",
        "        clean_tweets.append(clean_tweet)\n",
        "\n",
        "    return clean_tweets"
      ]
    },
    {
      "cell_type": "code",
      "execution_count": 29,
      "metadata": {
        "id": "aI_dUcvYufns"
      },
      "outputs": [],
      "source": [
        "clean_data=process_tweets(data['text'])"
      ]
    },
    {
      "cell_type": "code",
      "source": [
        "def build_freq(tweets):\n",
        "    freq={}\n",
        "\n",
        "    for i in range(len(tweets)):\n",
        "\n",
        "        for word in tweets[i]:\n",
        "            key=word\n",
        "\n",
        "            if key not in freq.keys():\n",
        "\n",
        "                \n",
        "                    freq[key]=[1]\n",
        "\n",
        "            else:\n",
        "              freq[key][0]+=1\n",
        "\n",
        "                \n",
        "                    \n",
        "    return freq"
      ],
      "metadata": {
        "id": "0-9p89CEJg9M"
      },
      "execution_count": 180,
      "outputs": []
    },
    {
      "cell_type": "code",
      "source": [
        "freq_dict=build_freq(clean_data)"
      ],
      "metadata": {
        "id": "Mxa6x8wLJ13E"
      },
      "execution_count": 181,
      "outputs": []
    },
    {
      "cell_type": "code",
      "source": [
        "common_words=pd.value_counts((freq_dict))\n",
        "common_words.value_counts"
      ],
      "metadata": {
        "colab": {
          "base_uri": "https://localhost:8080/"
        },
        "id": "F2id4WDjJ8C7",
        "outputId": "c1a311d5-21d4-4d6e-b908-6473e31e0a23"
      },
      "execution_count": 199,
      "outputs": [
        {
          "output_type": "execute_result",
          "data": {
            "text/plain": [
              "<bound method IndexOpsMixin.value_counts of {'deed': [2], 'reason': [31], 'may': [88], 'allah': [4], 'forgiv': [3], 'us': [117], 'forest': [64], 'fire': [358], 'near': [57], 'la': [24], 'rong': [1], 'sask': [1], 'canada': [11], 'resid': [9], 'ask': [28], 'shelter': [7], 'place': [35], 'notifi': [1], 'offic': [53], 'evacu': [129], 'order': [41], 'expect': [33], '13': [9], 'peopl': [199], 'receiv': [4], 'california': [116], 'got': [113], 'sent': [13], 'photo': [64], 'rubi': [1], 'smoke': [54], 'pour': [4], 'school': [70], 'updat': [56], 'hwi': [10], 'close': [40], 'direct': [18], 'due': [31], 'lake': [15], 'counti': [38], 'heavi': [19], 'rain': [56], 'caus': [106], 'flash': [21], 'flood': [158], 'street': [32], 'manit': [1], 'colorado': [14], 'spring': [18], 'area': [59], 'top': [57], 'hill': [12], 'see': [128], 'wood': [6], 'emerg': [159], 'happen': [56], 'build': [153], 'across': [20], 'afraid': [5], 'tornado': [40], 'come': [125], 'three': [31], 'die': [82], 'heat': [48], 'wave': [75], 'far': [28], 'haha': [20], 'south': [32], 'tampa': [2], 'get': [311], 'hah': [3], 'wait': [39], 'second': [36], 'live': [117], 'gonna': [43], 'fvck': [1], 'day': [147], 'lost': [25], 'count': [2], 'bago': [2], 'myanmar': [14], 'arriv': [19], 'damag': [74], 'bu': [41], 'multi': [4], 'car': [116], 'crash': [163], 'man': [115], 'love': [138], 'fruit': [8], 'summer': [42], 'fast': [23], 'goooooooaaaaaal': [1], 'ridicul': [5], 'london': [15], 'cool': [31], 'ski': [2], 'wonder': [29], 'looooool': [1], 'way': [89], ...}    10375\n",
              "dtype: int64>"
            ]
          },
          "metadata": {},
          "execution_count": 199
        }
      ]
    },
    {
      "cell_type": "code",
      "execution_count": 14,
      "metadata": {
        "id": "Fv9rEcePb7Qe"
      },
      "outputs": [],
      "source": [
        "test=process_tweets(data_test['text'])"
      ]
    },
    {
      "cell_type": "code",
      "execution_count": 66,
      "metadata": {
        "colab": {
          "base_uri": "https://localhost:8080/"
        },
        "id": "GKGmdTlruqdL",
        "outputId": "c5e233bd-7de6-4424-8cef-8055bb5aa905"
      },
      "outputs": [
        {
          "output_type": "stream",
          "name": "stderr",
          "text": [
            "/usr/local/lib/python3.7/dist-packages/ipykernel_launcher.py:1: VisibleDeprecationWarning: Creating an ndarray from ragged nested sequences (which is a list-or-tuple of lists-or-tuples-or ndarrays with different lengths or shapes) is deprecated. If you meant to do this, you must specify 'dtype=object' when creating the ndarray.\n",
            "  \"\"\"Entry point for launching an IPython kernel.\n"
          ]
        }
      ],
      "source": [
        "new=np.array(clean_data)"
      ]
    },
    {
      "cell_type": "code",
      "execution_count": 67,
      "metadata": {
        "colab": {
          "base_uri": "https://localhost:8080/"
        },
        "id": "Fn9JPK0kkJap",
        "outputId": "98401024-ae56-4c29-fd2f-d72c392d84fb"
      },
      "outputs": [
        {
          "output_type": "execute_result",
          "data": {
            "text/plain": [
              "(7613,)"
            ]
          },
          "metadata": {},
          "execution_count": 67
        }
      ],
      "source": [
        "new.shape"
      ]
    },
    {
      "cell_type": "code",
      "execution_count": 68,
      "metadata": {
        "id": "6kv8E2R4uxR3"
      },
      "outputs": [],
      "source": [
        "from tensorflow.keras.preprocessing.text import Tokenizer\n",
        "toknizer=Tokenizer()\n",
        "toknizer.fit_on_texts(new)\n",
        "sequence=toknizer.texts_to_sequences(new)"
      ]
    },
    {
      "cell_type": "code",
      "execution_count": 69,
      "metadata": {
        "id": "DMunyMgucLdt"
      },
      "outputs": [],
      "source": [
        "from tensorflow.keras.preprocessing.text import Tokenizer\n",
        "toknizer=Tokenizer()\n",
        "toknizer.fit_on_texts(test)\n",
        "sequence_test=toknizer.texts_to_sequences(test)"
      ]
    },
    {
      "cell_type": "code",
      "execution_count": 70,
      "metadata": {
        "colab": {
          "base_uri": "https://localhost:8080/"
        },
        "id": "8PIPu3i2z5aF",
        "outputId": "57388fee-4b02-4c26-ab70-b659d9d26cae"
      },
      "outputs": [
        {
          "output_type": "stream",
          "name": "stderr",
          "text": [
            "/usr/local/lib/python3.7/dist-packages/ipykernel_launcher.py:1: VisibleDeprecationWarning: Creating an ndarray from ragged nested sequences (which is a list-or-tuple of lists-or-tuples-or ndarrays with different lengths or shapes) is deprecated. If you meant to do this, you must specify 'dtype=object' when creating the ndarray.\n",
            "  \"\"\"Entry point for launching an IPython kernel.\n"
          ]
        }
      ],
      "source": [
        "sequence_test=np.array(sequence_test)"
      ]
    },
    {
      "cell_type": "code",
      "execution_count": 71,
      "metadata": {
        "colab": {
          "base_uri": "https://localhost:8080/"
        },
        "id": "36DTnf6Gc0Cn",
        "outputId": "0e11cc93-0d47-419a-d81e-afe54b08e01e"
      },
      "outputs": [
        {
          "output_type": "execute_result",
          "data": {
            "text/plain": [
              "(3263,)"
            ]
          },
          "metadata": {},
          "execution_count": 71
        }
      ],
      "source": [
        "sequence_test.shape"
      ]
    },
    {
      "cell_type": "code",
      "execution_count": 72,
      "metadata": {
        "colab": {
          "base_uri": "https://localhost:8080/"
        },
        "id": "P22klQntvBfI",
        "outputId": "1b9d59ba-ecbd-4345-923b-d775776d8ff7"
      },
      "outputs": [
        {
          "output_type": "execute_result",
          "data": {
            "text/plain": [
              "23"
            ]
          },
          "metadata": {},
          "execution_count": 72
        }
      ],
      "source": [
        "len_seq=[len(sent) for sent in sequence]\n",
        "max(len_seq)"
      ]
    },
    {
      "cell_type": "code",
      "execution_count": 73,
      "metadata": {
        "colab": {
          "base_uri": "https://localhost:8080/"
        },
        "id": "emp9w-LEeBHN",
        "outputId": "4cd0c7e1-6d6e-46ac-9ba6-e6e812a75bb3"
      },
      "outputs": [
        {
          "output_type": "execute_result",
          "data": {
            "text/plain": [
              "23"
            ]
          },
          "metadata": {},
          "execution_count": 73
        }
      ],
      "source": [
        "len_seq=[len(sent) for sent in sequence_test]\n",
        "max(len_seq)"
      ]
    },
    {
      "cell_type": "code",
      "execution_count": 74,
      "metadata": {
        "id": "H_uJsMt5vPRJ"
      },
      "outputs": [],
      "source": [
        "from tensorflow.keras.preprocessing.sequence import pad_sequences\n",
        "\n",
        "padd_sequnces=pad_sequences(sequence,maxlen=24)"
      ]
    },
    {
      "cell_type": "code",
      "execution_count": 75,
      "metadata": {
        "id": "PzsWLksdeD32"
      },
      "outputs": [],
      "source": [
        "from tensorflow.keras.preprocessing.sequence import pad_sequences\n",
        "\n",
        "padd_sequnces_test=pad_sequences(sequence_test,maxlen=24)"
      ]
    },
    {
      "cell_type": "code",
      "execution_count": 76,
      "metadata": {
        "colab": {
          "base_uri": "https://localhost:8080/"
        },
        "id": "eZ6ik9C4vTDJ",
        "outputId": "9edfa1b4-0b9a-4e76-cb13-6e8ee67259d9"
      },
      "outputs": [
        {
          "output_type": "execute_result",
          "data": {
            "text/plain": [
              "24"
            ]
          },
          "metadata": {},
          "execution_count": 76
        }
      ],
      "source": [
        "padd_sequnces.shape[1]"
      ]
    },
    {
      "cell_type": "code",
      "execution_count": 168,
      "metadata": {
        "colab": {
          "base_uri": "https://localhost:8080/"
        },
        "id": "BWBNaic6vUpu",
        "outputId": "748628f4-e708-4686-ada0-ce227565946c"
      },
      "outputs": [
        {
          "output_type": "stream",
          "name": "stdout",
          "text": [
            "Model: \"sequential_19\"\n",
            "_________________________________________________________________\n",
            " Layer (type)                Output Shape              Param #   \n",
            "=================================================================\n",
            " embedding_19 (Embedding)    (None, 24, 350)           1225000   \n",
            "                                                                 \n",
            " spatial_dropout1d_19 (Spati  (None, 24, 350)          0         \n",
            " alDropout1D)                                                    \n",
            "                                                                 \n",
            " lstm_19 (LSTM)              (None, 4)                 5680      \n",
            "                                                                 \n",
            " dropout_19 (Dropout)        (None, 4)                 0         \n",
            "                                                                 \n",
            " dense_19 (Dense)            (None, 1)                 5         \n",
            "                                                                 \n",
            "=================================================================\n",
            "Total params: 1,230,685\n",
            "Trainable params: 1,230,685\n",
            "Non-trainable params: 0\n",
            "_________________________________________________________________\n"
          ]
        }
      ],
      "source": [
        "from tensorflow.keras.models import Sequential\n",
        "from tensorflow.keras.layers import Dense,LSTM,Embedding,Dropout,SpatialDropout1D\n",
        "\n",
        "\n",
        "model=Sequential()\n",
        "model.add(Embedding(3500,350,input_length=padd_sequnces.shape[1]))\n",
        "model.add(SpatialDropout1D(0.6))\n",
        "model.add(LSTM(4))\n",
        "model.add(Dropout(0.6))\n",
        "model.add(Dense(1,activation='sigmoid'))\n",
        "model.compile(loss='binary_crossentropy',optimizer='adam',metrics=['accuracy'])\n",
        "model.summary()"
      ]
    },
    {
      "cell_type": "code",
      "execution_count": 170,
      "metadata": {
        "id": "i6bQemefvXAj"
      },
      "outputs": [],
      "source": [
        "from sklearn.model_selection import train_test_split\n",
        "\n",
        "train_X,test_X,train_y,test_y = train_test_split(padd_sequnces,np.array(data.iloc[:,-1]),test_size=0.10)"
      ]
    },
    {
      "cell_type": "code",
      "execution_count": 171,
      "metadata": {
        "colab": {
          "base_uri": "https://localhost:8080/"
        },
        "id": "jyBI9AuNvcBY",
        "outputId": "63083914-943a-4d1b-98b5-9c34e595a918"
      },
      "outputs": [
        {
          "output_type": "stream",
          "name": "stdout",
          "text": [
            "Epoch 1/5\n",
            "182/182 [==============================] - 2s 9ms/step - loss: 0.6279 - accuracy: 0.6643 - val_loss: 0.5578 - val_accuracy: 0.7519\n",
            "Epoch 2/5\n",
            "182/182 [==============================] - 1s 7ms/step - loss: 0.5089 - accuracy: 0.7805 - val_loss: 0.5058 - val_accuracy: 0.7656\n",
            "Epoch 3/5\n",
            "182/182 [==============================] - 1s 7ms/step - loss: 0.4499 - accuracy: 0.7967 - val_loss: 0.5068 - val_accuracy: 0.7568\n",
            "Epoch 4/5\n",
            "182/182 [==============================] - 1s 7ms/step - loss: 0.4044 - accuracy: 0.8357 - val_loss: 0.5295 - val_accuracy: 0.7490\n",
            "Epoch 5/5\n",
            "182/182 [==============================] - 1s 7ms/step - loss: 0.3621 - accuracy: 0.8542 - val_loss: 0.5494 - val_accuracy: 0.7529\n"
          ]
        }
      ],
      "source": [
        "history=model.fit(train_X,train_y,batch_size=32,epochs=5,validation_split=0.15)"
      ]
    },
    {
      "cell_type": "code",
      "execution_count": 162,
      "metadata": {
        "colab": {
          "base_uri": "https://localhost:8080/",
          "height": 318
        },
        "id": "j1Vv06ETwKIC",
        "outputId": "0fa19923-537f-4b44-c2de-85da758718e7"
      },
      "outputs": [
        {
          "output_type": "execute_result",
          "data": {
            "text/plain": [
              "Text(0.5, 0, 'epochs')"
            ]
          },
          "metadata": {},
          "execution_count": 162
        },
        {
          "output_type": "display_data",
          "data": {
            "text/plain": [
              "<Figure size 432x288 with 1 Axes>"
            ],
            "image/png": "[encoded data removed]"
          },
          "metadata": {
            "needs_background": "light"
          }
        }
      ],
      "source": [
        "plt.plot(history.history['loss'])\n",
        "plt.plot(history.history['val_loss'])\n",
        "plt.legend(['training','test'])\n",
        "plt.title('Loss')\n",
        "plt.xlabel('epochs')"
      ]
    },
    {
      "cell_type": "code",
      "execution_count": 172,
      "metadata": {
        "colab": {
          "base_uri": "https://localhost:8080/"
        },
        "id": "bpc4sZTkbO59",
        "outputId": "752b172d-4048-4c84-dca8-c717c55e4fd4"
      },
      "outputs": [
        {
          "output_type": "stream",
          "name": "stdout",
          "text": [
            "24/24 [==============================] - 0s 3ms/step - loss: 0.4725 - accuracy: 0.7848\n"
          ]
        },
        {
          "output_type": "execute_result",
          "data": {
            "text/plain": [
              "[0.47245103120803833, 0.7847769260406494]"
            ]
          },
          "metadata": {},
          "execution_count": 172
        }
      ],
      "source": [
        "model.evaluate(test_X,test_y)"
      ]
    },
    {
      "cell_type": "code",
      "execution_count": 173,
      "metadata": {
        "id": "fAzO--2qbhk-"
      },
      "outputs": [],
      "source": [
        "x=model.predict(np.array(padd_sequnces_test))"
      ]
    },
    {
      "cell_type": "code",
      "execution_count": 176,
      "metadata": {
        "colab": {
          "base_uri": "https://localhost:8080/"
        },
        "id": "q_X18tVKcdBd",
        "outputId": "c46ab1ff-77ac-4ab0-e072-6a595dcbf75c"
      },
      "outputs": [
        {
          "output_type": "execute_result",
          "data": {
            "text/plain": [
              "array([0.6866743], dtype=float32)"
            ]
          },
          "metadata": {},
          "execution_count": 176
        }
      ],
      "source": [
        "x[15]"
      ]
    },
    {
      "cell_type": "code",
      "source": [
        "model.save('model.h4')"
      ],
      "metadata": {
        "colab": {
          "base_uri": "https://localhost:8080/"
        },
        "id": "QRYuiqE__sbt",
        "outputId": "b3348f62-87aa-4f5a-a7d3-367521266461"
      },
      "execution_count": 177,
      "outputs": [
        {
          "output_type": "stream",
          "name": "stderr",
          "text": [
            "WARNING:absl:Found untraced functions such as lstm_cell_19_layer_call_fn, lstm_cell_19_layer_call_and_return_conditional_losses while saving (showing 2 of 2). These functions will not be directly callable after loading.\n"
          ]
        },
        {
          "output_type": "stream",
          "name": "stdout",
          "text": [
            "INFO:tensorflow:Assets written to: model.h4/assets\n"
          ]
        },
        {
          "output_type": "stream",
          "name": "stderr",
          "text": [
            "INFO:tensorflow:Assets written to: model.h4/assets\n",
            "WARNING:absl:<keras.layers.recurrent.LSTMCell object at 0x7ff20017bbd0> has the same name 'LSTMCell' as a built-in Keras object. Consider renaming <class 'keras.layers.recurrent.LSTMCell'> to avoid naming conflicts when loading with `tf.keras.models.load_model`. If renaming is not possible, pass the object in the `custom_objects` parameter of the load function.\n"
          ]
        }
      ]
    }
  ],
  "metadata": {
    "accelerator": "GPU",
    "colab": {
      "name": "NLP Project.ipynb",
      "provenance": []
    },
    "gpuClass": "standard",
    "kernelspec": {
      "display_name": "Python 3",
      "name": "python3"
    },
    "language_info": {
      "name": "python"
    }
  },
  "nbformat": 4,
  "nbformat_minor": 0
}